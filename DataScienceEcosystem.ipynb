{
  "nbformat": 4,
  "nbformat_minor": 0,
  "metadata": {
    "colab": {
      "provenance": []
    },
    "kernelspec": {
      "name": "python3",
      "display_name": "Python 3"
    },
    "language_info": {
      "name": "python"
    }
  },
  "cells": [
    {
      "cell_type": "markdown",
      "source": [
        "# Data Science Tools and Ecosystem"
      ],
      "metadata": {
        "id": "yYifJPGMUCRB"
      }
    },
    {
      "cell_type": "markdown",
      "source": [
        "In this notebook, Data Science Tools and Ecosystem are summarized."
      ],
      "metadata": {
        "id": "xSgVYmG_UheC"
      }
    },
    {
      "cell_type": "markdown",
      "source": [
        "Some of the popular languages that Data Scientists use are:\n",
        "\n",
        "\n",
        "\n",
        "1.   Python\n",
        "2.   R\n",
        "\n"
      ],
      "metadata": {
        "id": "lwQVyMCiUwVT"
      }
    },
    {
      "cell_type": "markdown",
      "source": [
        "Some of the commonly used libraries used by Data Scientists include:\n",
        "\n",
        "\n",
        "\n",
        "1.   Pandas\n",
        "2.   Numpy\n",
        "3.   Scikit-learn\n",
        "\n"
      ],
      "metadata": {
        "id": "G4zYUBgoU3_K"
      }
    },
    {
      "cell_type": "markdown",
      "source": [
        "|Data Science Tools|\n",
        "  |:----------------------:|\n",
        "  |Matplotlib|\n",
        "  |Seaborn|\n",
        "  |Jupyter Notebook|\n",
        "\n"
      ],
      "metadata": {
        "id": "Y9zs34fIVwE5"
      }
    },
    {
      "cell_type": "markdown",
      "source": [
        "### Below are a few examples of evaluating arithmetic expressions in Python"
      ],
      "metadata": {
        "id": "7jDQr_brW4ML"
      }
    },
    {
      "cell_type": "code",
      "source": [
        "# This a simple arithmetic expression to mutiply then add integers\n",
        "(3*4)+5"
      ],
      "metadata": {
        "colab": {
          "base_uri": "https://localhost:8080/"
        },
        "id": "g32tHNSmXy2e",
        "outputId": "a03eac8b-4f1a-494e-8d04-bc50f390bed6"
      },
      "execution_count": 2,
      "outputs": [
        {
          "output_type": "execute_result",
          "data": {
            "text/plain": [
              "17"
            ]
          },
          "metadata": {},
          "execution_count": 2
        }
      ]
    },
    {
      "cell_type": "code",
      "source": [
        "# This will convert 200 minutes to hours by diving by 60\n",
        "\n",
        "200/60"
      ],
      "metadata": {
        "colab": {
          "base_uri": "https://localhost:8080/"
        },
        "id": "vfFWdH39YZST",
        "outputId": "5ee5ca5a-264e-4a1c-a7ea-8ff53c82b41e"
      },
      "execution_count": 3,
      "outputs": [
        {
          "output_type": "execute_result",
          "data": {
            "text/plain": [
              "3.3333333333333335"
            ]
          },
          "metadata": {},
          "execution_count": 3
        }
      ]
    },
    {
      "cell_type": "markdown",
      "source": [
        "**Objectives**\n",
        "\n",
        "\n",
        "\n",
        "1.   List data science open source tools\n",
        "2.   List popular languages for Data Science\n",
        "3.   Basic math operations\n",
        "4.   Code cells and markdown cells\n",
        "\n"
      ],
      "metadata": {
        "id": "1RhcAPqaYpie"
      }
    },
    {
      "cell_type": "markdown",
      "source": [
        "## Author\n",
        "\n",
        "Sukhi Grewal"
      ],
      "metadata": {
        "id": "njvo5gYtZeex"
      }
    }
  ]
}